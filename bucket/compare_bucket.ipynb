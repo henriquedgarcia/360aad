{
 "cells": [
  {
   "cell_type": "code",
   "id": "initial_id",
   "metadata": {
    "collapsed": true,
    "ExecuteTime": {
     "end_time": "2025-01-27T18:21:29.704051Z",
     "start_time": "2025-01-27T18:21:29.687052Z"
    }
   },
   "source": [
    "from pathlib import Path\n",
    "from typing import Union\n",
    "import json\n",
    "from config import ConfigIf, Config\n",
    "\n",
    "config = Config()\n",
    "\n",
    "def save_json(data: Union[dict, list], filename: Union[str, Path], separators=(',', ':'), indent=None):\n",
    "    filename = Path(filename)\n",
    "    try:\n",
    "        filename.write_text(json.dumps(data, separators=separators, indent=indent), encoding='utf-8')\n",
    "    except (FileNotFoundError, OSError):\n",
    "        filename.parent.mkdir(parents=True, exist_ok=True)\n",
    "        filename.write_text(json.dumps(data, separators=separators, indent=indent), encoding='utf-8')\n",
    "\n",
    "\n",
    "def load_json(filename: Union[str, Path], object_hook: type[dict] = None):\n",
    "    filename = Path(filename)\n",
    "    results = json.loads(filename.read_text(encoding='utf-8'), object_hook=object_hook)\n",
    "    return results\n"
   ],
   "outputs": [],
   "execution_count": 1
  },
  {
   "metadata": {
    "ExecuteTime": {
     "end_time": "2025-01-27T18:24:21.934755Z",
     "start_time": "2025-01-27T18:24:21.915758Z"
    }
   },
   "cell_type": "code",
   "source": [
    "new_json = Path('bitrate_[dash_mpd-dash_init-dash_m4s]_.json')\n",
    "old_json = Path('bitrate_[dash_mpd-dash_init-dash_m4s]_.json.old')\n",
    "print(f'{new_json.exists()=}')\n",
    "print(f'{old_json.exists()=}')\n"
   ],
   "id": "cfe1b1722139c43d",
   "outputs": [
    {
     "name": "stdout",
     "output_type": "stream",
     "text": [
      "new_json.exists()=True\n",
      "old_json.exists()=True\n"
     ]
    }
   ],
   "execution_count": 6
  },
  {
   "metadata": {
    "ExecuteTime": {
     "end_time": "2025-01-27T18:25:16.197363Z",
     "start_time": "2025-01-27T18:25:15.841360Z"
    }
   },
   "cell_type": "code",
   "source": [
    "new_data = load_json(new_json)\n",
    "old_data = load_json(old_json)"
   ],
   "id": "e9fea071d25a09eb",
   "outputs": [],
   "execution_count": 9
  },
  {
   "metadata": {
    "ExecuteTime": {
     "end_time": "2025-01-27T18:27:45.941103Z",
     "start_time": "2025-01-27T18:27:45.928103Z"
    }
   },
   "cell_type": "code",
   "source": [
    "print(f'{new_data.keys()=}')\n",
    "print(f'{old_data.keys()=}')\n",
    "\n",
    "print(f'{len(new_data[\"dash_mpd\"])=}')\n",
    "print(f'{len(old_data[\"dash_mpd\"])=}')\n",
    "print(f'{len(new_data[\"dash_init\"])=}')\n",
    "print(f'{len(old_data[\"dash_init\"])=}')\n",
    "print(f'{len(new_data[\"dash_m4s\"])=}')\n",
    "print(f'{len(old_data[\"dash_m4s\"])=}')\n"
   ],
   "id": "e6fc6d509a1c0176",
   "outputs": [
    {
     "name": "stdout",
     "output_type": "stream",
     "text": [
      "new_data.keys()=dict_keys(['dash_mpd', 'dash_init', 'dash_m4s'])\n",
      "old_data.keys()=dict_keys(['dash_mpd', 'dash_init', 'dash_m4s'])\n",
      "len(new_data[\"dash_mpd\"])=10136\n",
      "len(old_data[\"dash_mpd\"])=5068\n",
      "len(new_data[\"dash_init\"])=60816\n",
      "len(old_data[\"dash_init\"])=30408\n",
      "len(new_data[\"dash_m4s\"])=3648960\n",
      "len(old_data[\"dash_m4s\"])=1824480\n"
     ]
    }
   ],
   "execution_count": 15
  },
  {
   "metadata": {
    "ExecuteTime": {
     "end_time": "2025-01-27T18:31:24.296125Z",
     "start_time": "2025-01-27T18:31:24.280127Z"
    }
   },
   "cell_type": "code",
   "source": [
    "for n, (a, b) in enumerate(zip(new_data[\"dash_mpd\"], old_data[\"dash_mpd\"])):\n",
    "    if a != b:\n",
    "        print(f'{n} -> {a} != {b}')\n",
    "        break\n",
    "else:\n",
    "    print(f'{n} - ok')\n"
   ],
   "id": "c56fccbbe60482f",
   "outputs": [
    {
     "name": "stdout",
     "output_type": "stream",
     "text": [
      "5067 - ok\n"
     ]
    }
   ],
   "execution_count": 20
  },
  {
   "metadata": {},
   "cell_type": "code",
   "source": "old_data[\"dash_mpd\"]",
   "id": "c2d858dd3538b42b",
   "outputs": [],
   "execution_count": null
  }
 ],
 "metadata": {
  "kernelspec": {
   "display_name": "Python 3",
   "language": "python",
   "name": "python3"
  },
  "language_info": {
   "codemirror_mode": {
    "name": "ipython",
    "version": 2
   },
   "file_extension": ".py",
   "mimetype": "text/x-python",
   "name": "python",
   "nbconvert_exporter": "python",
   "pygments_lexer": "ipython2",
   "version": "2.7.6"
  }
 },
 "nbformat": 4,
 "nbformat_minor": 5
}
