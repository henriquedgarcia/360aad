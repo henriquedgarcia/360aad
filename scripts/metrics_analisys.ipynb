{
 "cells": [
  {
   "metadata": {},
   "cell_type": "markdown",
   "source": [
    "# Structure\n",
    "\n",
    "## Bitrate\n",
    "\n",
    "`bitrate[name][projection][tiling][tile][quality][chunk]['dash_m4s']: int`\n",
    "\n",
    "or\n",
    "\n",
    "`bitrate[name][projection][tiling][tile][quality]['dash_init']: int`\n",
    "\n",
    "or\n",
    "\n",
    "`bitrate[name][projection][tiling][tile]['dash_mpd']: int`"
   ],
   "id": "2aa9204e9260aba1"
  },
  {
   "metadata": {
    "collapsed": true,
    "ExecuteTime": {
     "end_time": "2024-11-29T19:22:22.698326Z",
     "start_time": "2024-11-29T19:22:22.685327Z"
    }
   },
   "cell_type": "code",
   "source": [
    "import json\n",
    "from collections import defaultdict\n",
    "from dataclasses import dataclass\n",
    "from functools import reduce\n",
    "from pathlib import Path\n",
    "import numpy as np\n",
    "import pandas as pd\n",
    "from pandas.core.interchange.dataframe_protocol import DataFrame\n"
   ],
   "id": "initial_id",
   "outputs": [],
   "execution_count": 2
  },
  {
   "metadata": {
    "ExecuteTime": {
     "end_time": "2024-11-29T19:22:22.713325Z",
     "start_time": "2024-11-29T19:22:22.707325Z"
    }
   },
   "cell_type": "code",
   "source": [
    "# Paths\n",
    "graphs_workfolder = Path('../graphs/bitrate')\n",
    "database_path = Path('../dataset/bitrate')"
   ],
   "id": "de1cf1cf15fe63cb",
   "outputs": [],
   "execution_count": 3
  },
  {
   "metadata": {
    "ExecuteTime": {
     "end_time": "2024-11-29T19:22:22.744325Z",
     "start_time": "2024-11-29T19:22:22.731325Z"
    }
   },
   "cell_type": "code",
   "source": [
    "@dataclass\n",
    "class Config:\n",
    "    dataset_file = \"dataset/nasrabadi.json\"\n",
    "\n",
    "    duration = 60,\n",
    "    fps = 30,\n",
    "    gop = 30,\n",
    "    scale = \"3240x2160\"\n",
    "\n",
    "    rate_control = \"qp\",\n",
    "    decoding_num = 5,\n",
    "\n",
    "    bins = 30,\n",
    "    metric_list = [\"time\", \"rate\", \"ssim\", \"mse\", \"s-mse\", \"ws-mse\"],\n",
    "    error_metric = \"rmse\",\n",
    "    distributions = [\"burr12\", \"fatiguelife\", \"gamma\", \"beta\", \"invgauss\",\n",
    "                     \"rayleigh\", \"lognorm\", \"genpareto\", \"pareto\", \"halfnorm\",\n",
    "                     \"expon\"],\n",
    "\n",
    "    fov = \"110x90\",\n",
    "\n",
    "    chunk_list = list(map(str, range(1, 61)))\n",
    "    quality_list = [\"22\", \"28\", \"34\", \"40\", \"46\", \"50\"]\n",
    "    tiling_list = {\"1x1\": list(map(str, range(1))),\n",
    "                   \"3x2\": list(map(str, range(6))),\n",
    "                   \"6x4\": list(map(str, range(24))),\n",
    "                   \"9x6\": list(map(str, range(54))),\n",
    "                   \"12x8\": list(map(str, range(96)))}\n",
    "    projection_list = ['cmp']\n",
    "    name_list = {\n",
    "        \"angel_falls\": {\n",
    "            \"offset\": \"5:30\",\n",
    "            \"group\": \"MN\"\n",
    "        },\n",
    "        \"blue_angels\": {\n",
    "            \"offset\": \"1:00\",\n",
    "            \"group\": \"MM\"\n",
    "        },\n",
    "        \"cable_cam\": {\n",
    "            \"offset\": \"0:15\",\n",
    "            \"group\": \"HS\"\n",
    "        },\n",
    "        \"chariot_race\": {\n",
    "            \"offset\": \"0:00\",\n",
    "            \"group\": \"HM\"\n",
    "        },\n",
    "        \"closet_tour\": {\n",
    "            \"offset\": \"0:07\",\n",
    "            \"group\": \"FS\"\n",
    "        },\n",
    "        \"drone_chases_car\": {\n",
    "            \"offset\": \"2:11\",\n",
    "            \"group\": \"MS\"\n",
    "        },\n",
    "        \"drone_footage\": {\n",
    "            \"offset\": \"0:01\",\n",
    "            \"group\": \"HN\"\n",
    "        },\n",
    "        \"drone_video\": {\n",
    "            \"offset\": \"0:15\",\n",
    "            \"group\": \"VM\"\n",
    "        },\n",
    "        \"drop_tower\": {\n",
    "            \"offset\": \"1:11\",\n",
    "            \"group\": \"VM\"\n",
    "        },\n",
    "        \"dubstep_dance\": {\n",
    "            \"offset\": \"0:05\",\n",
    "            \"group\": \"FM\"\n",
    "        },\n",
    "        \"elevator_lift\": {\n",
    "            \"offset\": \"0:00\",\n",
    "            \"group\": \"VN\"\n",
    "        },\n",
    "        \"glass_elevator\": {\n",
    "            \"offset\": \"0:14\",\n",
    "            \"group\": \"VN\"\n",
    "        },\n",
    "        \"montana\": {\n",
    "            \"offset\": \"0:00\",\n",
    "            \"group\": \"FN\"\n",
    "        },\n",
    "        \"motorsports_park\": {\n",
    "            \"offset\": \"0:15\",\n",
    "            \"group\": \"HS\"\n",
    "        },\n",
    "        \"nyc_drive\": {\n",
    "            \"offset\": \"0:12\",\n",
    "            \"group\": \"HM\"\n",
    "        },\n",
    "        \"pac_man\": {\n",
    "            \"offset\": \"0\",\n",
    "            \"group\": \"MM\"\n",
    "        },\n",
    "        \"penthouse\": {\n",
    "            \"offset\": \"0:04\",\n",
    "            \"group\": \"RS\"\n",
    "        },\n",
    "        \"petite_anse\": {\n",
    "            \"offset\": \"0:45\",\n",
    "            \"group\": \"HN\"\n",
    "        },\n",
    "        \"rhinos\": {\n",
    "            \"offset\": \"0:18\",\n",
    "            \"group\": \"FM\"\n",
    "        },\n",
    "        \"sunset\": {\n",
    "            \"offset\": \"0:40\",\n",
    "            \"group\": \"FN\"\n",
    "        },\n",
    "        \"three_peaks\": {\n",
    "            \"offset\": \"0:00\",\n",
    "            \"group\": \"MN\"\n",
    "        },\n",
    "        \"video_04\": {\n",
    "            \"offset\": \"0\",\n",
    "            \"group\": \"FS\"\n",
    "        },\n",
    "        \"video_19\": {\n",
    "            \"offset\": \"0\",\n",
    "            \"group\": \"RN\"\n",
    "        },\n",
    "        \"video_20\": {\n",
    "            \"offset\": \"0\",\n",
    "            \"group\": \"RN\"\n",
    "        },\n",
    "        \"video_22\": {\n",
    "            \"offset\": \"0\",\n",
    "            \"group\": \"RS\"\n",
    "        },\n",
    "        \"video_23\": {\n",
    "            \"offset\": \"0\",\n",
    "            \"group\": \"RM\"\n",
    "        },\n",
    "        \"video_24\": {\n",
    "            \"offset\": \"0\",\n",
    "            \"group\": \"RM\"\n",
    "        },\n",
    "        \"wingsuit_dubai\": {\n",
    "            \"offset\": \"0:00\",\n",
    "            \"group\": \"MS\"\n",
    "        }\n",
    "    }\n",
    "\n",
    "    def get_tile_list(self, tiling):\n",
    "        return self.tiling_list[tiling]\n"
   ],
   "id": "ff33d5f00e447c1b",
   "outputs": [],
   "execution_count": 4
  },
  {
   "metadata": {
    "ExecuteTime": {
     "end_time": "2024-11-29T19:22:22.775325Z",
     "start_time": "2024-11-29T19:22:22.761326Z"
    }
   },
   "cell_type": "code",
   "source": [
    "# Config\n",
    "config = Config()"
   ],
   "id": "9b23d9e38384fa48",
   "outputs": [],
   "execution_count": 5
  },
  {
   "metadata": {
    "ExecuteTime": {
     "end_time": "2024-11-29T19:22:22.806325Z",
     "start_time": "2024-11-29T19:22:22.791324Z"
    }
   },
   "cell_type": "code",
   "source": [
    "# utils\n",
    "def get_nested_value(data, keys):\n",
    "    \"\"\"\n",
    "    Fetch value from nested dict using a list of keys.\n",
    "    :param data:\n",
    "    :type data: dict\n",
    "    :param keys:\n",
    "    :type keys: list\n",
    "    :return: Any\n",
    "    \"\"\"\n",
    "    func = lambda d, key: d[key]\n",
    "    try:\n",
    "        return reduce(func, keys, data)\n",
    "    except KeyError as e:\n",
    "        raise KeyError(f\"Key not found: {e}\")\n",
    "    except TypeError as e:\n",
    "        raise TypeError(f\"Invalid structure: {e}\")\n",
    "    \n",
    "def set_nested_value(data, keys, value):\n",
    "    subtree = get_nested_value(data, keys[:-1])\n",
    "    subtree[keys[-1]] = value\n",
    "    \n",
    "class AutoDict(dict):\n",
    "    def __missing__(self, key):\n",
    "        self[key] = type(self)()\n",
    "        return self[key]\n",
    "\n",
    "def get_value(video_dict, metric):\n",
    "    keys = []\n",
    "    if metric == 'dash_mpd':\n",
    "        keys = [name, projection, tiling, tile, 'dash_mpd']\n",
    "    elif metric == 'dash_init':\n",
    "        keys = [name, projection, tiling, tile, quality, 'dash_init']\n",
    "    elif metric == 'dash_m4s':\n",
    "        keys = [name, projection, tiling, tile, quality, chunk, 'dash_m4s']\n",
    "\n",
    "    value = get_nested_value(video_dict, keys)\n",
    "    return value\n",
    "\n",
    "\n",
    "def set_bucket_n2(bucket, video_dict, metric, quality):\n",
    "    value = get_value(video_dict, metric)\n",
    "    keys = [metric, quality]\n",
    "    \n",
    "    try:\n",
    "        get_nested_value(bucket, keys).append(value)\n",
    "    except AttributeError:\n",
    "        set_nested_value(bucket, keys, [value])\n",
    "\n",
    "# bucket2 = AutoDict()\n",
    "# for name in config.name_list:\n",
    "#     video_json = database_path / f'bitrate_{name}.json'\n",
    "#     video_dict = json.loads(video_json.read_text())\n",
    "# \n",
    "#     for projection in config.projection_list:\n",
    "#         for tiling in config.tiling_list:\n",
    "#             for tile in config.get_tile_list(tiling):\n",
    "#                 set_bucket_n1(bucket2, video_dict, metric='dash_mpd')\n",
    "#                 for quality in config.quality_list:\n",
    "#                     set_bucket_n2(bucket2, video_dict, metric='dash_init', quality=quality)\n",
    "#                     for chunk in config.chunk_list:\n",
    "#                         set_bucket_n2(bucket2, video_dict, metric='dash_m4s', quality=quality)\n",
    "#                         \n",
    "# bucket3 = AutoDict()\n",
    "# for name in config.name_list:\n",
    "#     video_json = database_path / f'bitrate_{name}.json'\n",
    "#     video_dict = json.loads(video_json.read_text())\n",
    "# \n",
    "#     for projection in config.projection_list:\n",
    "#         for tiling in config.tiling_list:\n",
    "#             for tile in config.get_tile_list(tiling):\n",
    "#                 set_bucket_n1(bucket, video_dict, metric='dash_mpd')\n",
    "#                 for quality in config.quality_list:\n",
    "#                     set_bucket_n1(bucket, video_dict, metric='dash_init', quality=quality)\n",
    "#                     for chunk in config.chunk_list:\n",
    "#                         set_bucket_n1(bucket, video_dict, metric='dash_m4s', quality=quality)\n"
   ],
   "id": "151721dfaa40f229",
   "outputs": [],
   "execution_count": 6
  },
  {
   "metadata": {
    "ExecuteTime": {
     "end_time": "2024-11-29T19:22:26.180315Z",
     "start_time": "2024-11-29T19:22:22.846324Z"
    }
   },
   "cell_type": "code",
   "source": [
    "def set_bucket(bucket, video_dict, metric):\n",
    "    value = get_value(video_dict, metric)\n",
    "    keys = [metric]\n",
    "    \n",
    "    try:\n",
    "        get_nested_value(bucket, keys).append(value)\n",
    "    except AttributeError:\n",
    "        set_nested_value(bucket, keys, [value])\n",
    "\n",
    "\n",
    "bucket = AutoDict()\n",
    "for name in config.name_list:\n",
    "    video_json = database_path / f'bitrate_{name}.json'\n",
    "    video_dict = json.loads(video_json.read_text())\n",
    "\n",
    "    for projection in config.projection_list:\n",
    "        for tiling in config.tiling_list:\n",
    "            for tile in config.get_tile_list(tiling):\n",
    "                set_bucket(bucket, video_dict, metric='dash_mpd')\n",
    "                for quality in config.quality_list:\n",
    "                    set_bucket(bucket, video_dict, metric='dash_init')\n",
    "                    for chunk in config.chunk_list:\n",
    "                        set_bucket(bucket, video_dict, metric='dash_m4s')\n",
    "print(bucket.keys())\n",
    "\n",
    "dash_mpd_len = len(bucket['dash_mpd'])\n",
    "dash_init_len = len(bucket['dash_init'])\n",
    "dash_m4s_len = len(bucket['dash_m4s'])\n",
    "\n",
    "print(f'{dash_mpd_len=}, {dash_init_len=}, {dash_m4s_len=}')\n"
   ],
   "id": "1bbcc7412bcccc9f",
   "outputs": [
    {
     "name": "stdout",
     "output_type": "stream",
     "text": [
      "dict_keys(['dash_mpd', 'dash_init', 'dash_m4s'])\n",
      "dash_mpd_len=5068, dash_init_len=30408, dash_m4s_len=1824480\n"
     ]
    }
   ],
   "execution_count": 7
  },
  {
   "metadata": {
    "ExecuteTime": {
     "end_time": "2024-11-29T19:44:48.861463Z",
     "start_time": "2024-11-29T19:44:46.119474Z"
    }
   },
   "cell_type": "code",
   "source": [
    "import matplotlib.pyplot as plt\n",
    "fig, (ax1, ax2, ax3) = plt.subplots(1, 3)\n",
    "ax1.boxplot(bucket['dash_mpd'], whis=(0, 100))\n",
    "ax1.title.set_text('Arquivo mpd')\n",
    "ax2.boxplot(bucket['dash_init'], whis=(0, 100))\n",
    "ax2.title.set_text('Arquivo init')\n",
    "ax3.boxplot(bucket['dash_m4s'], whis=(0, 100))\n",
    "ax3.title.set_text('Arquivo m4s')\n",
    "fig.tight_layout()"
   ],
   "id": "2677f4e65a9ef545",
   "outputs": [
    {
     "data": {
      "text/plain": [
       "<Figure size 640x480 with 3 Axes>"
      ],
      "image/png": "[encoded data removed]"
     },
     "metadata": {},
     "output_type": "display_data"
    }
   ],
   "execution_count": 32
  },
  {
   "metadata": {
    "ExecuteTime": {
     "end_time": "2024-11-29T19:55:55.902782Z",
     "start_time": "2024-11-29T19:55:55.301785Z"
    }
   },
   "cell_type": "code",
   "source": [
    "from collections import defaultdict\n",
    "tabela = defaultdict(list)\n",
    "tabela['Nome'].append('MPD')\n",
    "tabela['Média'].append(np.average(bucket['dash_mpd']))\n",
    "tabela['Desvio Padrão'].append(np.std(bucket['dash_mpd']))\n",
    "tabela['Mínimo'].append(np.quantile(bucket['dash_mpd'], 0))\n",
    "tabela['1º Quartil'].append(np.quantile(bucket['dash_mpd'], 0.25))\n",
    "tabela['Mediana'].append(np.quantile(bucket['dash_mpd'], 0.5))\n",
    "tabela['3º Quartil'].append(np.quantile(bucket['dash_mpd'], 0.75))\n",
    "tabela['Máximo'].append(np.quantile(bucket['dash_mpd'], 1))\n",
    "  \n",
    "tabela['Nome'].append('Init')\n",
    "tabela['Média'].append(np.average(bucket['dash_init']))\n",
    "tabela['Desvio Padrão'].append(np.std(bucket['dash_init']))\n",
    "tabela['Mínimo'].append(np.quantile(bucket['dash_init'], 0))\n",
    "tabela['1º Quartil'].append(np.quantile(bucket['dash_init'], 0.25))\n",
    "tabela['Mediana'].append(np.quantile(bucket['dash_init'], 0.5))\n",
    "tabela['3º Quartil'].append(np.quantile(bucket['dash_init'], 0.75))\n",
    "tabela['Máximo'].append(np.quantile(bucket['dash_init'], 1))\n",
    "  \n",
    "tabela['Nome'].append('m4s')\n",
    "tabela['Média'].append(np.average(bucket['dash_m4s']))\n",
    "tabela['Desvio Padrão'].append(np.std(bucket['dash_m4s']))\n",
    "tabela['Mínimo'].append(np.quantile(bucket['dash_m4s'], 0))\n",
    "tabela['1º Quartil'].append(np.quantile(bucket['dash_m4s'], 0.25))\n",
    "tabela['Mediana'].append(np.quantile(bucket['dash_m4s'], 0.5))\n",
    "tabela['3º Quartil'].append(np.quantile(bucket['dash_m4s'], 0.75))\n",
    "tabela['Máximo'].append(np.quantile(bucket['dash_m4s'], 1))\n",
    "\n",
    "import pandas as pd\n",
    "\n",
    "tabela_df:pd.DataFrame = pd.DataFrame(tabela)\n",
    "tabela_df.to_csv('bitrate_stats.csv', index=False)"
   ],
   "id": "f3f2b38bb871d3ac",
   "outputs": [],
   "execution_count": 41
  },
  {
   "metadata": {
    "ExecuteTime": {
     "end_time": "2024-11-29T20:04:39.097688Z",
     "start_time": "2024-11-29T20:04:39.081689Z"
    }
   },
   "cell_type": "code",
   "source": [
    "print(len((bucket['dash_mpd'])),len((bucket['dash_init'])),len((bucket['dash_m4s'])))\n",
    "import numpy as np\n",
    "print(np.sum([len((bucket['dash_mpd'])), len((bucket['dash_init'])), len((bucket['dash_m4s']))]))\n"
   ],
   "id": "62a3174839b54370",
   "outputs": [
    {
     "name": "stdout",
     "output_type": "stream",
     "text": [
      "5068 30408 1824480\n",
      "1859956\n"
     ]
    }
   ],
   "execution_count": 47
  },
  {
   "metadata": {
    "ExecuteTime": {
     "end_time": "2024-11-29T20:11:24.382091Z",
     "start_time": "2024-11-29T20:11:24.373093Z"
    }
   },
   "cell_type": "code",
   "source": [
    "from collections import Counter\n",
    "print(Counter(bucket['dash_mpd']))\n",
    "print(Counter(bucket['dash_init']))\n",
    "# print(Counter(bucket['dash_m4s']))"
   ],
   "id": "f231b82b5a74592a",
   "outputs": [
    {
     "name": "stdout",
     "output_type": "stream",
     "text": [
      "Counter({2814: 645, 2815: 569, 2811: 531, 2813: 523, 2812: 438, 2810: 332, 2816: 319, 2809: 148, 2799: 139, 2808: 122, 2800: 106, 2798: 100, 2817: 94, 2819: 87, 2796: 85, 2807: 84, 2801: 70, 2795: 69, 2818: 64, 2797: 47, 2804: 44, 2802: 41, 2806: 36, 2793: 34, 2826: 32, 2794: 30, 2824: 28, 2820: 28, 2805: 25, 2825: 24, 2803: 21, 2830: 20, 2827: 20, 2823: 18, 2821: 17, 2828: 14, 2792: 14, 2829: 8, 2833: 7, 2831: 7, 2832: 6, 2822: 6, 2834: 5, 2790: 4, 2791: 4, 2837: 1, 2835: 1, 2836: 1})\n",
      "Counter({936: 28236, 920: 1086, 955: 1086})\n"
     ]
    }
   ],
   "execution_count": 49
  },
  {
   "metadata": {
    "ExecuteTime": {
     "end_time": "2024-11-29T20:12:48.366785Z",
     "start_time": "2024-11-29T20:12:45.535788Z"
    }
   },
   "cell_type": "code",
   "source": [
    "import matplotlib.pyplot as plt\n",
    "\n",
    "fig, (ax1, ax2, ax3) = plt.subplots(3, 1, figsize=(10, 5))\n",
    "ax1.hist(bucket['dash_mpd'], bins=30)\n",
    "ax1.set_title('MPD')\n",
    "ax2.hist(bucket['dash_init'], bins=30)\n",
    "ax2.set_title('Init')\n",
    "ax3.hist(bucket['dash_m4s'], bins=30)\n",
    "ax3.set_title('chunk')\n",
    "fig.tight_layout()"
   ],
   "id": "df567f5548db58f7",
   "outputs": [
    {
     "data": {
      "text/plain": [
       "<Figure size 1000x500 with 3 Axes>"
      ],
      "image/png": "[encoded data removed]"
     },
     "metadata": {},
     "output_type": "display_data"
    }
   ],
   "execution_count": 52
  },
  {
   "metadata": {
    "ExecuteTime": {
     "end_time": "2024-11-29T19:34:38.165107Z",
     "start_time": "2024-11-29T19:34:38.147106Z"
    }
   },
   "cell_type": "code",
   "source": "",
   "id": "5075bceb4b43cc76",
   "outputs": [
    {
     "name": "stdout",
     "output_type": "stream",
     "text": [
      "Counter({2814: 645, 2815: 569, 2811: 531, 2813: 523, 2812: 438, 2810: 332, 2816: 319, 2809: 148, 2799: 139, 2808: 122, 2800: 106, 2798: 100, 2817: 94, 2819: 87, 2796: 85, 2807: 84, 2801: 70, 2795: 69, 2818: 64, 2797: 47, 2804: 44, 2802: 41, 2806: 36, 2793: 34, 2826: 32, 2794: 30, 2824: 28, 2820: 28, 2805: 25, 2825: 24, 2803: 21, 2830: 20, 2827: 20, 2823: 18, 2821: 17, 2828: 14, 2792: 14, 2829: 8, 2833: 7, 2831: 7, 2832: 6, 2822: 6, 2834: 5, 2790: 4, 2791: 4, 2837: 1, 2835: 1, 2836: 1})\n",
      "Counter({936: 28236, 920: 1086, 955: 1086})\n"
     ]
    }
   ],
   "execution_count": 31
  },
  {
   "metadata": {
    "ExecuteTime": {
     "end_time": "2024-11-29T19:22:32.490795Z",
     "start_time": "2024-11-29T19:22:32.475796Z"
    }
   },
   "cell_type": "code",
   "source": "",
   "id": "4ebee4f9706b7855",
   "outputs": [],
   "execution_count": null
  }
 ],
 "metadata": {
  "kernelspec": {
   "display_name": "Python 3",
   "language": "python",
   "name": "python3"
  },
  "language_info": {
   "codemirror_mode": {
    "name": "ipython",
    "version": 2
   },
   "file_extension": ".py",
   "mimetype": "text/x-python",
   "name": "python",
   "nbconvert_exporter": "python",
   "pygments_lexer": "ipython2",
   "version": "2.7.6"
  }
 },
 "nbformat": 4,
 "nbformat_minor": 5
}
